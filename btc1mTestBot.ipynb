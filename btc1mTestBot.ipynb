{
 "cells": [
  {
   "cell_type": "markdown",
   "id": "8e083777",
   "metadata": {},
   "source": [
    "## BTC 1m test cronjob"
   ]
  },
  {
   "cell_type": "code",
   "execution_count": 1,
   "id": "81fea8e6",
   "metadata": {},
   "outputs": [
    {
     "name": "stdout",
     "output_type": "stream",
     "text": [
      "{'apiKey': 'KWDjRnjKs2wUyFOmRNgduV8TpR3FAsNJRDkXt6GOvsFPe37P4RHBz6yWONar62oO', 'secretKey': 'Nu5etqEwfkmOUXzecQkQrdYKDAuPcFRiNixI3J2FYAmhLVXEisayh8R5anbuEpkM'}\n"
     ]
    }
   ],
   "source": [
    "import datetime as dt\n",
    "import time\n",
    "import my_functions\n",
    "import importlib\n",
    "importlib.reload(my_functions)\n",
    "from my_functions import *"
   ]
  },
  {
   "cell_type": "code",
   "execution_count": 2,
   "id": "647cc3e1",
   "metadata": {},
   "outputs": [],
   "source": [
    "pd.set_option('display.max_rows', 200) "
   ]
  },
  {
   "cell_type": "code",
   "execution_count": 3,
   "id": "1be0ef2d",
   "metadata": {},
   "outputs": [],
   "source": [
    "# Define the time periods for the moving averages and the Bollinger Bands\n",
    "length1 = 5\n",
    "length2 = 26\n",
    "bbPeriod = 32\n",
    "bbStdDev = 1\n",
    "\n",
    "# Define RSI configuration\n",
    "rsiLength = 18\n",
    "\n",
    "# Define stop loss in percentage\n",
    "stop_loss = 5.7\n",
    "\n",
    "# Define trading parameters\n",
    "symbol = 'BTC/USDT'\n",
    "usdt_amount = 50\n",
    "timeframe = '1m'\n",
    "rsi_tf = '5min'\n",
    "\n",
    "tradesfile = \"btcTrades.csv\"\n",
    "logfile = \"btc.csv\""
   ]
  },
  {
   "cell_type": "code",
   "execution_count": 4,
   "id": "72aae65b",
   "metadata": {},
   "outputs": [],
   "source": [
    "in_pos = in_pos(\"BTC\")\n",
    "in_position = in_pos[0]\n",
    "asset = in_pos[2]"
   ]
  },
  {
   "cell_type": "code",
   "execution_count": 5,
   "id": "b66e7286",
   "metadata": {},
   "outputs": [
    {
     "name": "stdout",
     "output_type": "stream",
     "text": [
      "                         open      high       low     close    volume  \\\n",
      "timestamp                                                               \n",
      "2023-05-05 10:49:00  29107.88  29115.86  29107.87  29115.86  2.741271   \n",
      "\n",
      "                          sma1          sma2      bb_upper        RSI    buy  \\\n",
      "timestamp                                                                      \n",
      "2023-05-05 10:49:00  29099.848  29102.481538  29114.837969  58.485166  False   \n",
      "\n",
      "                     sell  \n",
      "timestamp                  \n",
      "2023-05-05 10:49:00  True  \n",
      "2023-05-05 15:50:07.851746\n"
     ]
    }
   ],
   "source": [
    "size = calculate_order_size(symbol, usdt_amount)\n",
    "qty = asset\n",
    "\n",
    "# cronjob code\n",
    " \n",
    "try:\n",
    "    df = getdata(symbol, timeframe, limit=100,\n",
    "         length1=length1,\n",
    "         length2=length2,\n",
    "         bbPeriod=bbPeriod,\n",
    "         bbStdDev=bbStdDev,\n",
    "         rsi_tf=rsi_tf,\n",
    "         rsiLength=rsiLength,\n",
    "         )\n",
    "    print(df.iloc[-1:])\n",
    "    # Check for buy and sell signals\n",
    "    signal = df['buy'][-1]\n",
    "    print(dt.datetime.now())\n",
    "    if signal == True and not in_position:\n",
    "        # Place buy order\n",
    "        buyId = place_buy_order(symbol, size)\n",
    "        in_position = True\n",
    "        buyprice = float(buyId['info']['fills'][0]['price'])\n",
    "        qty = float(buyId['info']['origQty'])\n",
    "        buycsv(df, buyprice, tradesfile)\n",
    "        print(f'Buy order placed for {symbol} at {buyprice}')\n",
    "\n",
    "    elif df['sell'][-1] == True and in_position:\n",
    "        # Place sell order\n",
    "        sellId = place_sell_order(symbol, qty)\n",
    "        in_position = False\n",
    "        sellprice = float(sellId['info']['fills'][0]['price'])\n",
    "        buyprice = read_buyprice()\n",
    "        profit = ((sellprice - buyprice) / buyprice- 0.002) * 100\n",
    "        sellcsv(df, buyprice, sellprice, tradesfile)\n",
    "        print(f'Sell order placed for {symbol} at {sellprice}, Profit: {profit:.2f}%')\n",
    "\n",
    "    # Check for stop loss\n",
    "    elif in_position and (df['close'][-1] / buyprice - 1) * 100 < -stop_loss/100:\n",
    "        # Place sell order\n",
    "        sellId = place_sell_order(symbol, qty)\n",
    "        in_position = False\n",
    "        sellprice = float(sellId['info']['fills'][0]['price'])\n",
    "        buyprice = read_buyprice(\"btcTrades\")\n",
    "        profit = ((buyprice - sellprice) / buyprice- 0.002) * 100\n",
    "        sellcsv(df, buyprice, sellprice, tradesfile)\n",
    "        print(f'Sell order placed for {symbol} at {sellprice}, Profit: {profit:.2f}%')\n",
    "\n",
    "# write the last row to the CSV file    \n",
    "#         with open('btc.csv', 'a', newline='') as f:\n",
    "#             df.iloc[-1:].to_csv(f, header=f.tell())   \n",
    "\n",
    "    csvlog(df, logfile)\n",
    "\n",
    "except Exception as e:\n",
    "    print(e)\n",
    "\n",
    "# sec_of_execution = dt.datetime.now().second+(dt.datetime.now().microsecond/1000000)\n",
    "# time.sleep(60-sec_of_execution+5)"
   ]
  }
 ],
 "metadata": {
  "kernelspec": {
   "display_name": "Python 3 (ipykernel)",
   "language": "python",
   "name": "python3"
  },
  "language_info": {
   "codemirror_mode": {
    "name": "ipython",
    "version": 3
   },
   "file_extension": ".py",
   "mimetype": "text/x-python",
   "name": "python",
   "nbconvert_exporter": "python",
   "pygments_lexer": "ipython3",
   "version": "3.9.13"
  }
 },
 "nbformat": 4,
 "nbformat_minor": 5
}
